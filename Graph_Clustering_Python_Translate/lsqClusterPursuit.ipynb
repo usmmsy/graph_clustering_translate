{
 "cells": [
  {
   "cell_type": "code",
   "execution_count": 23,
   "metadata": {},
   "outputs": [],
   "source": [
    "# ======================================== Acknowledgement ================================================\n",
    "# This is part of series of work to translate Dr.Daniel Mckenzie's LsqClusterPursuit code from MatLab into \n",
    "# Python; The purpose of this project is first to understand how the algorithm works and second to practice \n",
    "# coding ability in python language;"
   ]
  },
  {
   "cell_type": "code",
   "execution_count": 49,
   "metadata": {},
   "outputs": [],
   "source": [
    "import numpy as np\n",
    "import math\n",
    "from scipy.sparse.linalg import lsqr"
   ]
  },
  {
   "cell_type": "code",
   "execution_count": 52,
   "metadata": {},
   "outputs": [],
   "source": [
    "def LsqClusterPursuit(L: np.ndarray, Gamma_a: np.ndarray, Omega_a: np.ndarray, n_a: int, reject: float):\n",
    "\n",
    "    # Inputs:\n",
    "    # L ........................................... Laplacian matrix\n",
    "    # Gamma_a ..................................... Labeled data for C_a\n",
    "    # Omega_a ..................................... Superset containing C_a\n",
    "    # n_a ......................................... (Estimated) size of C_a\n",
    "\n",
    "    # Outputs:\n",
    "    # C ........................................... Estimate of C_a (including Gamma_a)\n",
    "    # v ........................................... vector of probabilities of not being in C\n",
    "    \n",
    "    Phi = L[:, Omega_a]                             # Keep columns of L with indices in Omega_a\n",
    "    n = len(L)                                      # Number of vertices in graph\n",
    "    vdeg = Phi.sum(axis=1)                          # Get the vector of vertex degrees\n",
    "    k = math.floor(n_a/5)\n",
    "    indices = np.argpartition(Phi, k)[:k]\n",
    "    Phi[:, indices] = 0\n",
    "    g = len(Gamma_a)\n",
    "    h = len(Omega_a)\n",
    "    sparsity = math.ceil(1.1*h - (n_a - g))\n",
    "    if sparsity <= 0:\n",
    "        C = Omega_a | Gamma_a\n",
    "        v = np.zeros((n,1))\n",
    "    else:\n",
    "        v = lsqr(Phi, vdeg)[0]\n",
    "        Lambda_a = []\n",
    "        for i in range(len(v)):\n",
    "            if v[i] > reject:\n",
    "                Lambda_a += [i] \n",
    "    #    print(Lambda_a) \n",
    "        B = np.concatenate([np.setdiff1d(Omega_a, Omega_a[Lambda_a]), np.setdiff1d(Omega_a[Lambda_a], Omega_a)])        \n",
    "        C = np.union1d(B, Gamma_a)\n",
    "    return C, v\n",
    "\n"
   ]
  },
  {
   "cell_type": "code",
   "execution_count": 53,
   "metadata": {},
   "outputs": [
    {
     "name": "stdout",
     "output_type": "stream",
     "text": [
      "[[0 1 1 1 0 0 0 0 0 0]\n",
      " [1 0 1 1 0 0 0 0 0 0]\n",
      " [1 1 0 1 0 0 0 0 0 0]\n",
      " [1 1 1 0 0 0 0 0 0 0]\n",
      " [0 0 0 0 0 1 1 0 0 0]\n",
      " [0 0 0 0 1 0 1 0 0 0]\n",
      " [0 0 0 0 1 1 0 0 0 0]\n",
      " [0 0 0 0 0 0 0 0 1 1]\n",
      " [0 0 0 0 0 0 0 1 0 1]\n",
      " [0 0 0 0 0 0 0 1 1 0]]\n",
      "(array([0, 1, 2, 3]), array([1., 1., 1., 1., 1., 1.]))\n"
     ]
    }
   ],
   "source": [
    "P = np.array([\n",
    "    [0, 1, 1, 1, 0, 0, 0, 0, 0, 0],\n",
    "    [1, 0, 1, 1, 0, 0, 0, 0, 0, 0],\n",
    "    [1, 1, 0, 1, 0, 0, 0, 0, 0, 0],\n",
    "    [1, 1, 1, 0, 0, 0, 0, 0, 0, 0],\n",
    "    [0, 0, 0, 0, 0, 1, 1, 0, 0, 0],\n",
    "    [0, 0, 0, 0, 1, 0, 1, 0, 0, 0],\n",
    "    [0, 0, 0, 0, 1, 1, 0, 0, 0, 0],\n",
    "    [0, 0, 0, 0, 0, 0, 0, 0, 1, 1],\n",
    "    [0, 0, 0, 0, 0, 0, 0, 1, 0, 1],\n",
    "    [0, 0, 0, 0, 0, 0, 0, 1, 1, 0]\n",
    "])\n",
    "\n",
    "Gamma_a = np.array([0,1,2,3])\n",
    "Omega_a = np.array([0,1,2,3,6,9])\n",
    "print(P)\n",
    "print(LsqClusterPursuit(P, Gamma_a, Omega_a, 4, .1))\n"
   ]
  },
  {
   "cell_type": "code",
   "execution_count": 11,
   "metadata": {},
   "outputs": [
    {
     "name": "stdout",
     "output_type": "stream",
     "text": [
      "[3 3 3 3 2 2 2 2 2 2]\n",
      "[1. 1. 1. 1. 1. 1. 1. 1. 1. 1.]\n",
      "[1. 1. 1.]\n"
     ]
    }
   ],
   "source": [
    "P = np.array([\n",
    "    [0, 1, 1, 1, 0, 0, 0, 0, 0, 0],\n",
    "    [1, 0, 1, 1, 0, 0, 0, 0, 0, 0],\n",
    "    [1, 1, 0, 1, 0, 0, 0, 0, 0, 0],\n",
    "    [1, 1, 1, 0, 0, 0, 0, 0, 0, 0],\n",
    "    [0, 0, 0, 0, 0, 1, 1, 0, 0, 0],\n",
    "    [0, 0, 0, 0, 1, 0, 1, 0, 0, 0],\n",
    "    [0, 0, 0, 0, 1, 1, 0, 0, 0, 0],\n",
    "    [0, 0, 0, 0, 0, 0, 0, 0, 1, 1],\n",
    "    [0, 0, 0, 0, 0, 0, 0, 1, 0, 1],\n",
    "    [0, 0, 0, 0, 0, 0, 0, 1, 1, 0]\n",
    "])\n",
    "\n",
    "vd = P.sum(axis=1)\n",
    "x = lsqr(P, vd)[0]\n",
    "\n",
    "print(vd)\n",
    "print(x)\n",
    "print(x[[1,2,3]])\n"
   ]
  },
  {
   "cell_type": "code",
   "execution_count": 35,
   "metadata": {},
   "outputs": [
    {
     "name": "stdout",
     "output_type": "stream",
     "text": [
      "[1 2 3]\n",
      "<class 'numpy.ndarray'>\n"
     ]
    }
   ],
   "source": [
    "lst = np.array([1, 2, 3, 4, 5, 6, 7, 8, 9])\n",
    "xlst = lst[[0, 1, 2]]\n",
    "print(xlst)\n",
    "print(type(xlst))"
   ]
  }
 ],
 "metadata": {
  "kernelspec": {
   "display_name": "Python 3",
   "language": "python",
   "name": "python3"
  },
  "language_info": {
   "codemirror_mode": {
    "name": "ipython",
    "version": 3
   },
   "file_extension": ".py",
   "mimetype": "text/x-python",
   "name": "python",
   "nbconvert_exporter": "python",
   "pygments_lexer": "ipython3",
   "version": "3.8.8"
  },
  "orig_nbformat": 4
 },
 "nbformat": 4,
 "nbformat_minor": 2
}
