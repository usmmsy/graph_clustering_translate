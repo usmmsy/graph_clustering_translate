{
 "cells": [
  {
   "cell_type": "code",
   "execution_count": 2,
   "metadata": {},
   "outputs": [],
   "source": [
    "# ======================================== Acknowledgement ================================================\n",
    "# This is part of series of work to translate Dr.Daniel Mckenzie's LsqClusterPursuit code from MatLab into \n",
    "# Python; The purpose of this project is first to understand how the algorithm works and second to practice \n",
    "# coding ability in python language;\n",
    "\n",
    "# The function coded here determines the superset Omega needed for SSCP by running a random walk for k steps\n",
    "# starting from Gamma and returning the (1+epsilon)n0_hat vertices with highest probabilities of being \n",
    "# visited. See [Lai and Mckenzie, 2020]\n",
    "\n",
    "# The original MATLAB code was written by Daniel Mckenzie under Dr.Ming-Jun Lai's supervision on 2 March 2019\n",
    "# Modified by Zhaiming Shen under Dr.Ming-Jun Lai's supervision in Dec.2019\n"
   ]
  },
  {
   "cell_type": "code",
   "execution_count": 3,
   "metadata": {},
   "outputs": [],
   "source": [
    "import numpy as np\n",
    "from scipy.sparse import diags\n",
    "from scipy.sparse import coo_matrix\n"
   ]
  },
  {
   "cell_type": "code",
   "execution_count": 17,
   "metadata": {},
   "outputs": [],
   "source": [
    "def LsqRandomWalkThresh(A: np.ndarray, Gamma: np.ndarray, n0_hat: float, epsilon: float, t: int):\n",
    "\n",
    "    # Inputs:\n",
    "    # A ................................................ Adjacency matrix\n",
    "    # Gamma ............................................ Seed vertices/labelled data\n",
    "    # n0_hat ........................................... Estimate on the size of the cluster\n",
    "    # epsilon .......................................... Oversampling parameter\n",
    "    # t ................................................ Depth of random walk\n",
    "\n",
    "    # Outputs:\n",
    "    # Omega ............................................ Superset containing a large fraction of the vertices in cluster\n",
    "\n",
    "    # Initialization: \n",
    "    n = len(A) \n",
    "    Dtemp = A.sum(axis=1) \n",
    "    Dinv = diags(1/Dtemp, 0, shape=(n,n)).toarray() \n",
    "    m = len(Gamma)\n",
    "    v0 = coo_matrix((Dtemp[Gamma], (Gamma, np.zeros(m))), shape = (n,1)).toarray() \n",
    "    P = np.matmul(A, Dinv)\n",
    "\n",
    "    # Random Walk and Threshold:\n",
    "    v = v0\n",
    "    for i in range(t):\n",
    "        v = np.matmul(P, v)\n",
    "    v = np.concatenate(v)\n",
    "    w = np.sort(v)[::-1]\n",
    "    IndsThresh = np.argsort(v)[::-1]\n",
    "    FirstZero = np.where(w == 0)[0]\n",
    "    if FirstZero.size>0 and FirstZero[0]<np.ceil(epsilon*n0_hat)-1:\n",
    "        print('Warning: the size of Omega is smaller than (1+delta) times the user specified cluster size. Try a larger value of k')\n",
    "        T = FirstZero[0]\n",
    "    else:\n",
    "        T = np.ceil(epsilon*n0_hat)\n",
    "    \n",
    "    T = int(T)\n",
    "    \n",
    "    Omega = np.union1d(IndsThresh[:T], Gamma)\n",
    "    \n",
    "    return Omega\n"
   ]
  },
  {
   "cell_type": "code",
   "execution_count": 19,
   "metadata": {},
   "outputs": [
    {
     "name": "stdout",
     "output_type": "stream",
     "text": [
      "[3 3 2]\n",
      "[1 2 3 5]\n"
     ]
    }
   ],
   "source": [
    "A = np.array([\n",
    "    [0, 1, 1, 1, 0, 0, 0, 0, 0, 0],\n",
    "    [1, 0, 1, 1, 0, 0, 0, 0, 0, 0],\n",
    "    [1, 1, 0, 1, 0, 0, 0, 0, 0, 0],\n",
    "    [1, 1, 1, 0, 0, 0, 0, 0, 0, 0],\n",
    "    [0, 0, 0, 0, 0, 1, 1, 0, 0, 0],\n",
    "    [0, 0, 0, 0, 1, 0, 1, 0, 0, 0],\n",
    "    [0, 0, 0, 0, 1, 1, 0, 0, 0, 0],\n",
    "    [0, 0, 0, 0, 0, 0, 0, 0, 1, 1],\n",
    "    [0, 0, 0, 0, 0, 0, 0, 1, 0, 1],\n",
    "    [0, 0, 0, 0, 0, 0, 0, 1, 1, 0]\n",
    "])\n",
    "\n",
    "Gamma = np.array([2,3,5]) \n",
    " \n",
    "Omega = LsqRandomWalkThresh(A, Gamma, 5, .5, 10) \n",
    " \n",
    "print(Omega) \n",
    "\n"
   ]
  },
  {
   "cell_type": "code",
   "execution_count": 77,
   "metadata": {},
   "outputs": [
    {
     "name": "stdout",
     "output_type": "stream",
     "text": [
      "[9 7 4 2 1] [4 1 0 3 2]\n"
     ]
    }
   ],
   "source": [
    "ww = np.array([4,7,1,2,9])\n",
    "vv = np.sort(ww)[::-1]\n",
    "vv_ind = np.argsort(ww)[::-1]\n",
    "\n",
    "print(vv,vv_ind)\n"
   ]
  }
 ],
 "metadata": {
  "kernelspec": {
   "display_name": "Python 3",
   "language": "python",
   "name": "python3"
  },
  "language_info": {
   "codemirror_mode": {
    "name": "ipython",
    "version": 3
   },
   "file_extension": ".py",
   "mimetype": "text/x-python",
   "name": "python",
   "nbconvert_exporter": "python",
   "pygments_lexer": "ipython3",
   "version": "3.8.8"
  },
  "orig_nbformat": 4
 },
 "nbformat": 4,
 "nbformat_minor": 2
}
